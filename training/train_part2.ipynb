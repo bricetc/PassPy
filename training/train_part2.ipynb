{
 "cells": [
  {
   "cell_type": "markdown",
   "id": "3917406b-0c7f-428a-b142-ff5b6f1e5745",
   "metadata": {},
   "source": [
    "## Project: **Système Intelligent de Gestion et d'Analyse de Mots de Passe (part 2)**"
   ]
  },
  {
   "cell_type": "code",
   "execution_count": 30,
   "id": "ef12f834-b5ff-4aac-b4e2-3558a8d12e48",
   "metadata": {},
   "outputs": [],
   "source": [
    "import re\n",
    "import sqlite3\n",
    "import bcrypt\n",
    "import random\n",
    "import string\n",
    "import pandas as pd\n",
    "import numpy as np\n",
    "import spacy, joblib\n",
    "# from ipynb.fs.full.train import test_password\n",
    "\n",
    "path = \"C:\\\\Users\\\\User\\\\PycharmProjects\\\\PassPy\\\\training\\\\\""
   ]
  },
  {
   "cell_type": "markdown",
   "id": "7b67069f-e24f-43dc-8192-bfc3922db6d7",
   "metadata": {
    "jp-MarkdownHeadingCollapsed": true
   },
   "source": [
    "### 3. Génération de Mots de Passe sécurisés"
   ]
  },
  {
   "cell_type": "code",
   "execution_count": 31,
   "id": "c7594952-e8d5-45ad-b07c-3175eac2afb1",
   "metadata": {},
   "outputs": [],
   "source": [
    "import spacy, string, random\n",
    "# Load English and French models\n",
    "nlp_en = spacy.load(\"en_core_web_sm\")\n",
    "nlp_fr = spacy.load(\"fr_core_news_sm\")\n",
    "\n",
    "def resembles_common_word(password):\n",
    "    # Check against both English and French models\n",
    "    for nlp in [nlp_en, nlp_fr]:\n",
    "        doc = nlp(password)\n",
    "        for token in doc:\n",
    "            if token.is_alpha and token.text.lower() in nlp.vocab:\n",
    "                return True\n",
    "    return False\n",
    "\n",
    "def load_easy_patterns(file_path=\"easy_patterns.txt\"):\n",
    "    # Load patterns from the specified file\n",
    "    with open(file_path, \"r\") as f:\n",
    "        patterns = [line.strip() for line in f.readlines()]\n",
    "    return patterns\n",
    "\n",
    "def has_easy_patterns(password, patterns):\n",
    "    # Check for sequential characters\n",
    "    for i in range(len(password) - 2):\n",
    "        if (ord(password[i+1]) == ord(password[i]) + 1) and (ord(password[i+2]) == ord(password[i]) + 2):\n",
    "            return True\n",
    "        if password[i] == password[i+1] == password[i+2]:  # Repeated characters\n",
    "            return True\n",
    "    # Check for patterns in the list\n",
    "    for pattern in patterns:\n",
    "        if pattern in password:\n",
    "            return True\n",
    "    return False"
   ]
  },
  {
   "cell_type": "code",
   "execution_count": 32,
   "id": "dd9145ec-4c80-4808-91cb-9f9cb79d60a5",
   "metadata": {},
   "outputs": [],
   "source": [
    "def generate_secure_password(length=12):\n",
    "    if length < 8:\n",
    "        raise ValueError(\"Password length must be at least 8 characters.\")\n",
    "\n",
    "    all_chars = string.ascii_letters + string.digits + string.punctuation\n",
    "    easy_patterns = load_easy_patterns(\"easy_patterns.txt\")\n",
    "    \n",
    "    while True:\n",
    "        password = ''.join(random.choice(all_chars) for _ in range(length))\n",
    "        if not has_easy_patterns(password, easy_patterns) and not resembles_common_word(password):\n",
    "            return password\n"
   ]
  },
  {
   "cell_type": "code",
   "execution_count": 6,
   "id": "35d029d9-ec36-445a-923d-f2f9f072bc0d",
   "metadata": {},
   "outputs": [
    {
     "name": "stdout",
     "output_type": "stream",
     "text": [
      "Generated secure password: !i\\?M\"h{3Zd4\n"
     ]
    }
   ],
   "source": [
    "secure_password = generate_secure_password(12)\n",
    "print(\"Generated secure password:\", secure_password)"
   ]
  },
  {
   "cell_type": "markdown",
   "id": "39223aed-8ae3-47ee-ab92-3da1d8aaf1fb",
   "metadata": {},
   "source": [
    "### 4. Stockage sécurisé de Mot de Passe"
   ]
  },
  {
   "cell_type": "markdown",
   "id": "5058a763-f5c3-4319-a5f9-82b58753021f",
   "metadata": {},
   "source": [
    "##### 4.1. Encryption imp"
   ]
  },
  {
   "cell_type": "code",
   "execution_count": 33,
   "id": "16752f1a-bccc-4104-98aa-e6c99e2c6fe6",
   "metadata": {},
   "outputs": [],
   "source": [
    "from cryptography.hazmat.primitives.ciphers import Cipher, algorithms, modes\n",
    "from cryptography.hazmat.primitives.kdf.pbkdf2 import PBKDF2HMAC\n",
    "from cryptography.hazmat.primitives.hashes import SHA256\n",
    "from cryptography.hazmat.primitives import padding\n",
    "from cryptography.hazmat.backends import default_backend\n",
    "import os\n",
    "import base64\n",
    "\n",
    "# Generate a key for AES encryption\n",
    "def generate_key(master_password, salt):\n",
    "    kdf = PBKDF2HMAC(\n",
    "        algorithm=SHA256(),\n",
    "        length=32,\n",
    "        salt=salt,\n",
    "        iterations=100000,\n",
    "        backend=default_backend()\n",
    "    )\n",
    "    return kdf.derive(master_password.encode())\n",
    "\n",
    "# Encrypt plaintext\n",
    "def encrypt(plaintext, key):\n",
    "    # Add padding\n",
    "    padder = padding.PKCS7(algorithms.AES.block_size).padder()\n",
    "    padded_data = padder.update(plaintext.encode()) + padder.finalize()\n",
    "\n",
    "    # AES encryption\n",
    "    iv = os.urandom(16)  # Generate a random IV\n",
    "    cipher = Cipher(algorithms.AES(key), modes.CFB(iv), backend=default_backend())\n",
    "    encryptor = cipher.encryptor()\n",
    "    ciphertext = encryptor.update(padded_data) + encryptor.finalize()\n",
    "\n",
    "    # Return IV and ciphertext\n",
    "    return base64.b64encode(iv + ciphertext).decode()\n",
    "\n",
    "# Decrypt ciphertext\n",
    "def decrypt(ciphertext, key):\n",
    "    data = base64.b64decode(ciphertext)\n",
    "\n",
    "    # Extract IV and encrypted data\n",
    "    iv = data[:16]\n",
    "    encrypted_data = data[16:]\n",
    "\n",
    "    # AES decryption\n",
    "    cipher = Cipher(algorithms.AES(key), modes.CFB(iv), backend=default_backend())\n",
    "    decryptor = cipher.decryptor()\n",
    "    padded_data = decryptor.update(encrypted_data) + decryptor.finalize()\n",
    "\n",
    "    # Remove padding\n",
    "    unpadder = padding.PKCS7(algorithms.AES.block_size).unpadder()\n",
    "    plaintext = unpadder.update(padded_data) + unpadder.finalize()\n",
    "\n",
    "    return plaintext.decode()\n"
   ]
  },
  {
   "cell_type": "code",
   "execution_count": 34,
   "id": "e1177bd6-4b5c-4673-ba85-93ffa875a5ec",
   "metadata": {},
   "outputs": [],
   "source": [
    "import bcrypt\n",
    "\n",
    "# Hash the master password\n",
    "def hash_password(password):\n",
    "    salt = bcrypt.gensalt()\n",
    "    hashed = bcrypt.hashpw(password.encode(), salt)\n",
    "    return hashed\n",
    "\n",
    "# Verify the master password\n",
    "def verify_password(password, hashed):\n",
    "    return bcrypt.checkpw(password.encode(), hashed)"
   ]
  },
  {
   "cell_type": "markdown",
   "id": "e43505cf-6a7c-475d-af76-f14a06109294",
   "metadata": {
    "jp-MarkdownHeadingCollapsed": true
   },
   "source": [
    "##### 4.2. Store passwords in a Database"
   ]
  },
  {
   "cell_type": "code",
   "execution_count": 35,
   "id": "8a26028c-7a4d-4494-8093-87497661bc00",
   "metadata": {},
   "outputs": [],
   "source": [
    "# Database setup\n",
    "def initialize_database():\n",
    "    conn = sqlite3.connect('password_manager.db')\n",
    "    cursor = conn.cursor()\n",
    "\n",
    "    # Users table\n",
    "    cursor.execute('''CREATE TABLE IF NOT EXISTS users (\n",
    "                      id INTEGER PRIMARY KEY AUTOINCREMENT,\n",
    "                      username TEXT NOT NULL,\n",
    "                      password TEXT NOT NULL)''')\n",
    "    # Password table \n",
    "    cursor.execute('''CREATE TABLE IF NOT EXISTS passwords (\n",
    "                      id INTEGER PRIMARY KEY AUTOINCREMENT,\n",
    "                      account TEXT NOT NULL,\n",
    "                      username TEXT,\n",
    "                      password_hash TEXT NOT NULL,\n",
    "                      password_encr TEXT NOT NULL,\n",
    "                      user_id INTEGER,\n",
    "                      FOREIGN KEY(user_id) REFERENCES users(id) )''')\n",
    "    conn.commit()\n",
    "    conn.close()\n",
    "\n",
    "# Store password securely\n",
    "def store_password(account, username, password, user_id):\n",
    "    conn = sqlite3.connect('password_manager.db')\n",
    "    cursor = conn.cursor()\n",
    "\n",
    "    # Hash the password\n",
    "    # password_hash = bcrypt.hashpw(password.encode(), bcrypt.gensalt())\n",
    "    password_hash = hash_password(password)\n",
    "\n",
    "    # Generate AES key and crypt the pass\n",
    "    master_password = \"my0;ma5teR_Pa5sW0rd\"\n",
    "    salt = b'secure_salt'  # Use a secure and consistent salt\n",
    "    key = generate_key(master_password, salt)\n",
    "    # Encrypt the password\n",
    "    password_encr = encrypt(password, key)\n",
    "\n",
    "    # Insert into database\n",
    "    cursor.execute('INSERT INTO passwords (account, username, password_hash, password_encr, user_id) VALUES (?, ?, ?, ?, ?)',\n",
    "                   (account, username, password_hash, password_encr, user_id))\n",
    "    conn.commit()\n",
    "    conn.close()\n",
    "\n",
    "# Retrieve passwords\n",
    "def retrieve_passwords(user_id):\n",
    "    conn = sqlite3.connect('password_manager.db')\n",
    "    cursor = conn.cursor()\n",
    "\n",
    "    # Retrieve all passwords for the logged-in user\n",
    "    # cursor.execute('SELECT id, account, username FROM passwords WHERE user_id = ?', (user_id,))\n",
    "    cursor.execute('SELECT * FROM passwords WHERE user_id = ?', (user_id,))\n",
    "    passwords = cursor.fetchall()\n",
    "    conn.close()\n",
    "    return passwords\n",
    "\n",
    "# Retrieve specific password\n",
    "def retrieve_apass(user_id, account):\n",
    "    conn = sqlite3.connect('password_manager.db')\n",
    "    cursor = conn.cursor()\n",
    "\n",
    "    # Retrieve a specific password record for the user based on the account name\n",
    "    cursor.execute('SELECT id, account, username, password_encr FROM passwords WHERE user_id = ? AND account = ?', \n",
    "                   (user_id, account))\n",
    "    password_record = cursor.fetchone()\n",
    "    conn.close()\n",
    "\n",
    "    if not password_record:\n",
    "        return None\n",
    "\n",
    "    # Decrypt the password\n",
    "    master_password = \"my0;ma5teR_Pa5sW0rd\"\n",
    "    salt = b'secure_salt'\n",
    "    key = generate_key(master_password, salt)\n",
    "    decrypted_password = decrypt(password_record[3], key)\n",
    "\n",
    "    return {\n",
    "        \"id\": password_record[0],\n",
    "        \"account\": password_record[1],\n",
    "        \"username\": password_record[2],\n",
    "        \"password\": decrypted_password\n",
    "    }\n",
    "\n",
    "# Update an account password\n",
    "def update_pass(user_id, account, new_username, new_password):\n",
    "    conn = sqlite3.connect('password_manager.db')\n",
    "    cursor = conn.cursor()\n",
    "\n",
    "    # Hash the new password\n",
    "    password_hash = hash_password(new_password)\n",
    "\n",
    "    # Encrypt the new password\n",
    "    master_password = \"my0;ma5teR_Pa5sW0rd\"\n",
    "    salt = b'secure_salt'\n",
    "    key = generate_key(master_password, salt)\n",
    "    password_encr = encrypt(new_password, key)\n",
    "\n",
    "    # Update the password record in the database\n",
    "    cursor.execute('''\n",
    "        UPDATE passwords \n",
    "        SET username = ?, password_hash = ?, password_encr = ? \n",
    "        WHERE user_id = ? AND account = ?''', \n",
    "        (new_username, password_hash, password_encr, user_id, account))\n",
    "    conn.commit()\n",
    "    conn.close()\n",
    "    return cursor.rowcount > 0  # Return True if a row was updated\n",
    "\n",
    "# Delete password\n",
    "def delete_pass(user_id, account):\n",
    "    conn = sqlite3.connect('password_manager.db')\n",
    "    cursor = conn.cursor()\n",
    "\n",
    "    # Delete the password record for the given account and user\n",
    "    cursor.execute('DELETE FROM passwords WHERE user_id = ? AND account = ?', (user_id, account))\n",
    "    conn.commit()\n",
    "    conn.close()\n",
    "    return cursor.rowcount > 0  # Return True if a row was deleted\n",
    "\n"
   ]
  },
  {
   "cell_type": "markdown",
   "id": "0dc0847e-c40a-467a-9e20-988cd217b26e",
   "metadata": {
    "jp-MarkdownHeadingCollapsed": true
   },
   "source": [
    "##### 4.3. Save and Get the password"
   ]
  },
  {
   "cell_type": "code",
   "execution_count": 15,
   "id": "9e2cf163-0eaa-4b71-8a92-8fd3fd113ead",
   "metadata": {},
   "outputs": [],
   "source": [
    "def save_password(master_password, account, username, password):\n",
    "    # Generate AES key\n",
    "    salt = b'secure_salt'  # Use a secure and consistent salt\n",
    "    key = generate_key(master_password, salt)\n",
    "    \n",
    "    # Encrypt the password\n",
    "    encrypted_password = encrypt(password, key)\n",
    "    \n",
    "    # Store in the database\n",
    "    store_password(account, username, encrypted_password)\n",
    "\n",
    "def get_password(master_password, account):\n",
    "    # Retrieve encrypted data\n",
    "    result = retrieve_password(account)\n",
    "    if result is None:\n",
    "        return None\n",
    "\n",
    "    username, encrypted_password = result\n",
    "\n",
    "    # Generate AES key\n",
    "    salt = b'secure_salt'  # Use the same salt\n",
    "    key = generate_key(master_password, salt)\n",
    "\n",
    "    # Decrypt the password\n",
    "    password = decrypt(encrypted_password, key)\n",
    "    return username, password"
   ]
  },
  {
   "cell_type": "code",
   "execution_count": 11,
   "id": "8d5c8049-89f2-4aba-98f5-82cddeb7b001",
   "metadata": {},
   "outputs": [
    {
     "name": "stdout",
     "output_type": "stream",
     "text": [
      "hN3WDcIUBV8rg+gtqRBZKdtm0a9vlh2tB1o8xHYnCcaLW70/vaTZC9IMdPxHYWhu 64\n",
      "se]{13$`~cu@ssw0rd\n",
      "b'$2b$12$P/xCgdWBPLRgoMWyiGNquODhSUa2xQr1yN/x1.t8t0oGTj/UzyjPy'\n"
     ]
    }
   ],
   "source": [
    "master_password = \"my_master_password\"\n",
    "ent_pass = \"se]{13$`~cu@ssw0rd\"\n",
    "\n",
    "salt = b'to-90o^^?'  # Use a secure and consistent salt\n",
    "key = generate_key(master_password, salt)\n",
    "    \n",
    "# Encrypt the password\n",
    "encrypted_password = encrypt(ent_pass, key)\n",
    "\n",
    "print(encrypted_password, len(encrypted_password))\n",
    "\n",
    "\n",
    "# Generate AES key\n",
    "salt = b'to-90o^^?'  # Use the same salt\n",
    "key = generate_key(master_password, salt)\n",
    "\n",
    "# Decrypt the password\n",
    "out_pass = decrypt(encrypted_password, key)\n",
    "print(out_pass)\n",
    "hashed = hash_password(ent_pass)\n",
    "print(hashed)\n"
   ]
  },
  {
   "cell_type": "code",
   "execution_count": 39,
   "id": "73b39629-903e-424f-9d79-86b4a71c0d7b",
   "metadata": {},
   "outputs": [
    {
     "data": {
      "text/plain": [
       "True"
      ]
     },
     "execution_count": 39,
     "metadata": {},
     "output_type": "execute_result"
    }
   ],
   "source": [
    "verify_password(ent_pass, b'$2b$12$xgcmmjYtxddCxFrncsmTD.SIu1hT4NY.RoYvEglul36C5aGdNYqjK')"
   ]
  },
  {
   "cell_type": "code",
   "execution_count": null,
   "id": "8abcd08e-310e-4f10-b6d9-7fca2d93ad27",
   "metadata": {},
   "outputs": [],
   "source": [
    "# Save a password\n",
    "initialize_db()\n",
    "master_password = \"my_master_password\"\n",
    "\n",
    "save_password(master_password, \"example.com\", \"user@example.com\", \"secureP@ssw0rd\")\n",
    "print(\"Password saved securely!\")\n",
    "\n",
    "# ------------------------ Retrieve a Password ----------------------\n",
    "username, password = get_password(\"my_master_password\", \"example.com\")\n",
    "if username and password:\n",
    "    print(f\"Username: {username}, Password: {password}\")\n",
    "else:\n",
    "    print(\"Account not found or incorrect master password.\")\n",
    "b'$2b$12$eYcS5oc5A.NCR4UBCTqq4esanMcW7bddxT2WfuGx1V8sd8Ibkqxnq'\n",
    "b'$2b$12$h96MSwKpIdyB92HfVSLXY.b/f57cSptfo5AQrInhCFFhQYclip6OO'\n",
    "b'$2b$12$V9crHP.S/J.ahmtavrsFSelgmjcBBLLxyKowwdON3ysGCCZbebhba'\n",
    "b'$2b$12$xgcmmjYtxddCxFrncsmTD.SIu1hT4NY.RoYvEglul36C5aGdNYqjK'"
   ]
  },
  {
   "cell_type": "code",
   "execution_count": null,
   "id": "0f3b5fa7-9b10-44d7-bb48-c8fb690e94c1",
   "metadata": {},
   "outputs": [],
   "source": []
  },
  {
   "cell_type": "code",
   "execution_count": null,
   "id": "1d1aaa1e-3602-447c-9204-cf164b1b147d",
   "metadata": {},
   "outputs": [],
   "source": []
  },
  {
   "cell_type": "markdown",
   "id": "681835bb-19c5-4472-973b-a7f5da069610",
   "metadata": {},
   "source": [
    "### 5. Simulation d'attaques"
   ]
  },
  {
   "cell_type": "code",
   "execution_count": 36,
   "id": "c8cf5d07-11e9-48af-aeb6-36624f35167f",
   "metadata": {},
   "outputs": [],
   "source": [
    "import itertools\n",
    "import hashlib\n",
    "import bcrypt\n",
    "import string\n",
    "import time\n",
    "from typing import Tuple\n",
    "\n",
    "# Detect hash type based on length and pattern\n",
    "def detect_hash_type(hashed_password: str) -> str:\n",
    "    if hashed_password.startswith(\"$2b$\") or hashed_password.startswith(\"$2a$\"):\n",
    "        return \"bcrypt\"\n",
    "    elif len(hashed_password) == 32:\n",
    "        return \"md5\"\n",
    "    elif len(hashed_password) == 40:\n",
    "        return \"sha1\"\n",
    "    elif len(hashed_password) == 64:\n",
    "        return \"sha256\"\n",
    "    else:\n",
    "        return \"unknown\"\n",
    "\n",
    "# Compare a hashed password with its plaintext version\n",
    "def compare_hash(plaintext: str, hashed_password: str, hash_type: str) -> bool:\n",
    "    if hash_type == \"bcrypt\":\n",
    "        return bcrypt.checkpw(plaintext.encode(), hashed_password.encode())\n",
    "    elif hash_type == \"md5\":\n",
    "        return hashlib.md5(plaintext.encode()).hexdigest() == hashed_password\n",
    "    elif hash_type == \"sha1\":\n",
    "        return hashlib.sha1(plaintext.encode()).hexdigest() == hashed_password\n",
    "    elif hash_type == \"sha256\":\n",
    "        return hashlib.sha256(plaintext.encode()).hexdigest() == hashed_password\n",
    "    else:\n",
    "        return False"
   ]
  },
  {
   "cell_type": "markdown",
   "id": "cf9e108d-d437-442a-82ca-ff5be9f668ac",
   "metadata": {},
   "source": [
    "##### 5.1. Attaques par Brute-force"
   ]
  },
  {
   "cell_type": "code",
   "execution_count": 37,
   "id": "a0dfa024-688a-4a60-84e8-98176846b630",
   "metadata": {},
   "outputs": [],
   "source": [
    "# Brute-force attack\n",
    "def brute_force_attack(hashed_password: str, hash_type: str, max_length: int = 6) -> Tuple[str, float]:\n",
    "    characters = string.ascii_letters + string.digits + string.punctuation\n",
    "    start_time = time.time()\n",
    "\n",
    "    for length in range(1, max_length + 1):\n",
    "        for combination in itertools.product(characters, repeat=length):\n",
    "            candidate = ''.join(combination)\n",
    "            if compare_hash(candidate, hashed_password, hash_type):\n",
    "                elapsed_time = time.time() - start_time\n",
    "                return candidate, elapsed_time\n",
    "\n",
    "    elapsed_time = time.time() - start_time\n",
    "    return None, elapsed_time"
   ]
  },
  {
   "cell_type": "code",
   "execution_count": 46,
   "id": "98b866bc-cbc9-4147-ba78-6ad107c0eb64",
   "metadata": {},
   "outputs": [
    {
     "name": "stdout",
     "output_type": "stream",
     "text": [
      "900150983cd24fb0d6963f7d28e17f72\n",
      "$2b$12$a23oBx1yVi0hEiudWLyil.Art6XI7i4aR03kjOh914kos5V.R8Wpy\n"
     ]
    }
   ],
   "source": [
    "# Test in the test section\n",
    "plaintext = \"abc\"\n",
    "print(hashlib.md5(plaintext.encode()).hexdigest())\n",
    "print(hash_password(plaintext).decode(\"utf-8\"))"
   ]
  },
  {
   "cell_type": "markdown",
   "id": "1930e337-7293-44a5-9092-ba0e061cd063",
   "metadata": {
    "jp-MarkdownHeadingCollapsed": true
   },
   "source": [
    "###### Last Tries (hashlib.sha256 and bcrypt)"
   ]
  },
  {
   "cell_type": "code",
   "execution_count": 43,
   "id": "8eaccd0f-6e84-4711-9e10-4b3993de0053",
   "metadata": {},
   "outputs": [],
   "source": [
    "# Brute-force attack engine\n",
    "def brute_force_attack(hash_to_crack, charset, max_length):\n",
    "    start_time = time.time()\n",
    "    for length in range(1, max_length + 1):\n",
    "        # Generate all combinations of the given charset\n",
    "        for combination in itertools.product(charset, repeat=length):\n",
    "            password = ''.join(combination)\n",
    "            hashed_password = hashlib.sha256(password.encode()).hexdigest()\n",
    "            \n",
    "            if hashed_password == hash_to_crack:\n",
    "                elapsed_time = time.time() - start_time\n",
    "                return password, elapsed_time\n",
    "    return None, time.time() - start_time"
   ]
  },
  {
   "cell_type": "code",
   "execution_count": 44,
   "id": "bcff7633-b101-40b2-8c00-ca61e56ea11d",
   "metadata": {
    "jupyter": {
     "source_hidden": true
    }
   },
   "outputs": [
    {
     "name": "stdout",
     "output_type": "stream",
     "text": [
      "Password cracked: abc (Time taken: 0.04 seconds)\n"
     ]
    }
   ],
   "source": [
    "# Example hash to crack (hashed version of \"abc\")\n",
    "target_password = \"abc\"\n",
    "hashed_target = hashlib.sha256(target_password.encode()).hexdigest()\n",
    "\n",
    "# Define character set and maximum password length\n",
    "# charset = \"0123456789\" + \"abcdefghijklmnopqrstuvwxyzABCDEFGHIJKMNOPQRSTUVWYZ\" + \"<><>.,/?€~;':[]`!@#$%^&*()+-_=\\\"|\\\\\"\n",
    "charset = string.ascii_letters + string.digits + string.punctuation\n",
    "max_length = 8\n",
    "\n",
    "# Run brute-force attack\n",
    "cracked_password, time_taken = brute_force_attack(hashed_target, charset, max_length)\n",
    "if cracked_password:\n",
    "    print(f\"Password cracked: {cracked_password} (Time taken: {time_taken:.2f} seconds)\")\n",
    "else:\n",
    "    print(f\"Password not found (Time taken: {time_taken:.2f} seconds)\")"
   ]
  },
  {
   "cell_type": "code",
   "execution_count": 47,
   "id": "826e766b-10d9-4cf9-9f96-c843db54044e",
   "metadata": {
    "jupyter": {
     "source_hidden": true
    }
   },
   "outputs": [],
   "source": [
    "import bcrypt\n",
    "import itertools\n",
    "import string\n",
    "\n",
    "def brute_force_password(hashed_password, max_length=3):\n",
    "    \"\"\"\n",
    "    Attempt to brute-force a password hashed with bcrypt.\n",
    "    \n",
    "    Args:\n",
    "        hashed_password (bytes): The bcrypt hash of the password to guess.\n",
    "        max_length (int): The maximum length of the password to guess.\n",
    "    \n",
    "    Returns:\n",
    "        str: The guessed password if successful, or None if not.\n",
    "    \"\"\"\n",
    "    chars = string.ascii_letters + string.digits + string.punctuation  # Characters to try\n",
    "    print(\"Starting brute-force attack...\")\n",
    "    \n",
    "    # Generate all possible passwords up to max_length\n",
    "    for length in range(1, max_length + 1):\n",
    "        for attempt in itertools.product(chars, repeat=length):\n",
    "            candidate = ''.join(attempt)\n",
    "            \n",
    "            if bcrypt.checkpw(candidate.encode(), hashed_password):\n",
    "                print(f\"Password found: {candidate}\")\n",
    "                return candidate\n",
    "    \n",
    "    print(\"Password not found within given constraints.\")\n",
    "    return None"
   ]
  },
  {
   "cell_type": "code",
   "execution_count": 51,
   "id": "e69b2503-b812-4ba6-85e6-1f1cd6c57cb3",
   "metadata": {
    "jupyter": {
     "source_hidden": true
    }
   },
   "outputs": [
    {
     "name": "stdout",
     "output_type": "stream",
     "text": [
      "Hashed Password: $2b$12$BGeZy5XTCT/NXtRe8HaCc./.qvngxoPhFFHwz8j7AdX3R5fukX3KS\n",
      "Starting brute-force attack...\n",
      "Password found: 7\n"
     ]
    },
    {
     "data": {
      "text/plain": [
       "'7'"
      ]
     },
     "execution_count": 51,
     "metadata": {},
     "output_type": "execute_result"
    }
   ],
   "source": [
    "password = \"7\"\n",
    "hashed = bcrypt.hashpw(password.encode(), bcrypt.gensalt())\n",
    "print(f\"Hashed Password: {hashed.decode()}\")\n",
    "\n",
    "# Brute-force attempt (educational)\n",
    "brute_force_password(hashed, max_length=3)"
   ]
  },
  {
   "cell_type": "markdown",
   "id": "ca93b841-f049-4685-8177-cb5eeb73b487",
   "metadata": {},
   "source": [
    "##### 5.2. Attaques par dictionnaire"
   ]
  },
  {
   "cell_type": "code",
   "execution_count": 38,
   "id": "3624f12a-ecf1-40dd-a928-e8af24d36675",
   "metadata": {},
   "outputs": [],
   "source": [
    "def dictionary_attack(hashed_password: str, hash_type: str, dictionary_file: str = \"dictionary.txt\") -> Tuple[str, float]:\n",
    "    start_time = time.time()\n",
    "\n",
    "    try:\n",
    "        with open(dictionary_file, \"r\") as file:\n",
    "            for line in file:\n",
    "                candidate = line.strip()\n",
    "                if compare_hash(candidate, hashed_password, hash_type):\n",
    "                    elapsed_time = time.time() - start_time\n",
    "                    return candidate, elapsed_time\n",
    "    except FileNotFoundError:\n",
    "        print(\"Dictionary file not found!\")\n",
    "\n",
    "    elapsed_time = time.time() - start_time\n",
    "    return None, elapsed_time\n"
   ]
  },
  {
   "cell_type": "code",
   "execution_count": null,
   "id": "15922bc7-5c2f-4fc9-a84c-015a4421ffc7",
   "metadata": {},
   "outputs": [],
   "source": [
    "# Test (in the test section)\n"
   ]
  },
  {
   "cell_type": "markdown",
   "id": "2032e9d9-c81c-44f9-ac4a-d6f60ac0beef",
   "metadata": {
    "jp-MarkdownHeadingCollapsed": true
   },
   "source": [
    "###### Avec hashlib"
   ]
  },
  {
   "cell_type": "code",
   "execution_count": null,
   "id": "ccd0c7c2-f7fa-4d7b-9a87-d1bd45462697",
   "metadata": {},
   "outputs": [],
   "source": [
    "def dictionary_attack(hash_to_crack, dictionary_file):\n",
    "    start_time = time.time()\n",
    "    with open(dictionary_file, 'r') as file:\n",
    "        for line in file:\n",
    "            password = line.strip()\n",
    "            hashed_password = hashlib.sha256(password.encode()).hexdigest()\n",
    "            \n",
    "            if hashed_password == hash_to_crack:\n",
    "                elapsed_time = time.time() - start_time\n",
    "                return password, elapsed_time\n",
    "    return None, time.time() - start_time"
   ]
  },
  {
   "cell_type": "code",
   "execution_count": null,
   "id": "de128eb3-c496-47bf-a8c9-03c5e18af045",
   "metadata": {},
   "outputs": [],
   "source": [
    "dictionary_file = \"dictionary.txt\"\n",
    "\n",
    "# Run dictionary attack\n",
    "cracked_password, time_taken = dictionary_attack(hashed_target, dictionary_file)\n",
    "if cracked_password:\n",
    "    print(f\"Password cracked: {cracked_password} (Time taken: {time_taken:.2f} seconds)\")\n",
    "else:\n",
    "    print(f\"Password not found (Time taken: {time_taken:.2f} seconds)\")"
   ]
  },
  {
   "cell_type": "markdown",
   "id": "5f059c3e-1248-41db-ad79-f01ef13b3634",
   "metadata": {
    "jp-MarkdownHeadingCollapsed": true
   },
   "source": [
    "###### Avec bcript"
   ]
  },
  {
   "cell_type": "code",
   "execution_count": null,
   "id": "48f45af5-852e-4373-98a4-9444be7a8772",
   "metadata": {},
   "outputs": [],
   "source": [
    "def dictionary_attack(target_hash, dictionary_file):\n",
    "    \"\"\"\n",
    "    Perform a dictionary attack to guess a password from a hash.\n",
    "\n",
    "    Args:\n",
    "        target_hash (bytes): The bcrypt hash of the password to guess.\n",
    "        dictionary_file (str): Path to the file containing potential passwords.\n",
    "\n",
    "    Returns:\n",
    "        str: The guessed password if found, or None if not.\n",
    "    \"\"\"\n",
    "    try:\n",
    "        with open(dictionary_file, \"r\") as file:\n",
    "            for line in file:\n",
    "                password = line.strip()  # Remove any trailing spaces or newlines\n",
    "                \n",
    "                # Hash the password and compare it with the target hash\n",
    "                if bcrypt.checkpw(password.encode(), target_hash):\n",
    "                    return password  # Password found\n",
    "    except FileNotFoundError:\n",
    "        print(f\"Dictionary file {dictionary_file} not found.\")\n",
    "    except Exception as e:\n",
    "        print(f\"An error occurred: {e}\")\n",
    "\n",
    "    return None  # Password not found\n"
   ]
  },
  {
   "cell_type": "code",
   "execution_count": null,
   "id": "02dbf078-39db-4162-bf0d-5e75e1fd3920",
   "metadata": {},
   "outputs": [],
   "source": [
    "# The target hash to crack (hashed with bcrypt)\n",
    "password = \"mypassword\"\n",
    "hashed_password = bcrypt.hashpw(password.encode(), bcrypt.gensalt())\n",
    "\n",
    "# Path to the dictionary file\n",
    "dictionary_path = \"common_passwords.txt\"\n",
    "\n",
    "# Attempt dictionary attack\n",
    "print(\"Attempting dictionary attack...\")\n",
    "guessed_password = dictionary_attack(hashed_password, dictionary_path)\n",
    "\n",
    "if guessed_password:\n",
    "    print(f\"Password cracked! The password is: {guessed_password}\")\n",
    "else:\n",
    "    print(\"Password could not be guessed.\")"
   ]
  },
  {
   "cell_type": "markdown",
   "id": "a626e6d9-fa38-4113-a5d3-8e6a9cf466b3",
   "metadata": {},
   "source": [
    "### 6. Tests et Validation"
   ]
  },
  {
   "cell_type": "code",
   "execution_count": 16,
   "id": "d9aea385-1500-418f-9dd0-d496f6c8207d",
   "metadata": {},
   "outputs": [
    {
     "name": "stdout",
     "output_type": "stream",
     "text": [
      "++++++++++++++++++++++++++++++++++++ Test and Validation +++++++++++++++++++++++++++++++\n",
      "<<<<<----------  Ok! --------------\n"
     ]
    }
   ],
   "source": [
    "print(\"++++++++++++++++++++++++++++++++++++ Test and Validation +++++++++++++++++++++++++++++++\")\n",
    "print(\"<<<<<----------  Ok! --------------\")"
   ]
  },
  {
   "cell_type": "code",
   "execution_count": 42,
   "id": "78a21b58-7302-463a-947e-8fe81ee6b659",
   "metadata": {
    "scrolled": true
   },
   "outputs": [
    {
     "name": "stdout",
     "output_type": "stream",
     "text": [
      "Welcome to the Password Manager CLI App!\n",
      "\n",
      "Choose an option:\n",
      "1. Login\n",
      "2. Register\n",
      "3. Exit\n"
     ]
    },
    {
     "name": "stdin",
     "output_type": "stream",
     "text": [
      "Enter choice:  1\n",
      "Enter your username:  user1\n",
      "Enter your password:  ········\n"
     ]
    },
    {
     "name": "stdout",
     "output_type": "stream",
     "text": [
      "Login successful!\n",
      "\n",
      "Dashboard\n",
      "1. View Passwords\n",
      "2. Add Password\n",
      "3. Update Password\n",
      "4. Generate strong pasword\n",
      "5. Password strength\n",
      "6. Perform Password Attack\n",
      "7. Logout\n"
     ]
    },
    {
     "name": "stdin",
     "output_type": "stream",
     "text": [
      "Enter choice:  1\n"
     ]
    },
    {
     "name": "stdout",
     "output_type": "stream",
     "text": [
      "\n",
      "Your saved passwords:\n",
      "ID    Account                        Username             Encrypted Password                                               Hashed Password                                             \n",
      "1     trello.com                     mytrello             UKVXKr9/71SNFrcarGMeWau4YjzsGPFFq3mUNyr+ce0=                     b'$2b$12$2j1oV79cxs12ozRqD98lreBqbjSZY/vvEIwQ49pQihzMWGL75YdLC'\n",
      "\n",
      "Dashboard\n",
      "1. View Passwords\n",
      "2. Add Password\n",
      "3. Update Password\n",
      "4. Generate strong pasword\n",
      "5. Password strength\n",
      "6. Perform Password Attack\n",
      "7. Logout\n"
     ]
    },
    {
     "name": "stdin",
     "output_type": "stream",
     "text": [
      "Enter choice:  7\n"
     ]
    },
    {
     "name": "stdout",
     "output_type": "stream",
     "text": [
      "\n",
      "Choose an option:\n",
      "1. Login\n",
      "2. Register\n",
      "3. Exit\n"
     ]
    },
    {
     "name": "stdin",
     "output_type": "stream",
     "text": [
      "Enter choice:  3\n"
     ]
    },
    {
     "name": "stdout",
     "output_type": "stream",
     "text": [
      "Goodbye!\n"
     ]
    }
   ],
   "source": [
    "import sqlite3\n",
    "import bcrypt\n",
    "import os\n",
    "from getpass import getpass\n",
    "from cryptography.fernet import Fernet\n",
    "import random\n",
    "import string\n",
    "import joblib \n",
    "\n",
    "# Initialize the database\n",
    "def initialize_database():\n",
    "    conn = sqlite3.connect('password_manager.db')\n",
    "    cursor = conn.cursor()\n",
    "\n",
    "    # Create users table\n",
    "    cursor.execute('''CREATE TABLE IF NOT EXISTS users (\n",
    "                      id INTEGER PRIMARY KEY AUTOINCREMENT,\n",
    "                      username TEXT NOT NULL UNIQUE,\n",
    "                      password TEXT NOT NULL)''')\n",
    "\n",
    "    # Create passwords table\n",
    "    cursor.execute('''CREATE TABLE IF NOT EXISTS passwords (\n",
    "                      id INTEGER PRIMARY KEY AUTOINCREMENT,\n",
    "                      account TEXT NOT NULL,\n",
    "                      username TEXT,\n",
    "                      password_hash TEXT NOT NULL,\n",
    "                      password_encr TEXT NOT NULL,\n",
    "                      user_id INTEGER,\n",
    "                      FOREIGN KEY(user_id) REFERENCES users(id))''')\n",
    "    conn.commit()\n",
    "    conn.close()\n",
    "\n",
    "# Register a new user\n",
    "def register_user():\n",
    "    username = input(\"Enter a username: \")\n",
    "    password = getpass(\"Enter a password: \")\n",
    "    hashed_password = bcrypt.hashpw(password.encode(), bcrypt.gensalt())\n",
    "\n",
    "    conn = sqlite3.connect('password_manager.db')\n",
    "    cursor = conn.cursor()\n",
    "    try:\n",
    "        cursor.execute('INSERT INTO users (username, password) VALUES (?, ?)', (username, hashed_password))\n",
    "        conn.commit()\n",
    "        print(\"User registered successfully!\")\n",
    "    except sqlite3.IntegrityError:\n",
    "        print(\"Username already exists!\")\n",
    "    conn.close()\n",
    "\n",
    "# Authenticate user\n",
    "def authenticate_user():\n",
    "    username = input(\"Enter your username: \")\n",
    "    password = getpass(\"Enter your password: \")\n",
    "\n",
    "    conn = sqlite3.connect('password_manager.db')\n",
    "    cursor = conn.cursor()\n",
    "    cursor.execute('SELECT id, password FROM users WHERE username = ?', (username,))\n",
    "    user = cursor.fetchone()\n",
    "    conn.close()\n",
    "\n",
    "    if user and bcrypt.checkpw(password.encode(), user[1]):\n",
    "        print(\"Login successful!\")\n",
    "        return user[0]\n",
    "    else:\n",
    "        print(\"Invalid username or password!\")\n",
    "        return None\n",
    "\n",
    "# Add a new password record\n",
    "def add_password(user_id):\n",
    "    account = input(\"Enter account name: \")\n",
    "    username = input(\"Enter username: \")\n",
    "    password = getpass(\"Enter password: \")\n",
    "    \n",
    "    store_password(account, username, password, user_id)\n",
    "\n",
    "    print(\"Password added successfully!\")\n",
    "\n",
    "# View passwords for the logged-in user\n",
    "def view_passwords(user_id):\n",
    "    conn = sqlite3.connect('password_manager.db')\n",
    "    cursor = conn.cursor()\n",
    "    cursor.execute('SELECT id, account, username, password_encr, password_hash FROM passwords WHERE user_id = ?', (user_id,))\n",
    "    passwords = cursor.fetchall()\n",
    "    conn.close()\n",
    "\n",
    "    # master_password = \"mymasterpassword\"\n",
    "    # salt = b'secure_salt'\n",
    "    # key = generate_key(master_password, salt)\n",
    "\n",
    "    print(\"\\nYour saved passwords:\")\n",
    "    print(\"{:<5} {:<30} {:<20} {:<64} {:<60}\".format(\"ID\", \"Account\", \"Username\", \"Encrypted Password\", \"Hashed Password\"))\n",
    "    for row in passwords:\n",
    "        # decrypted_password = decrypt(row[3], key)\n",
    "        print(\"{:<5} {:<30} {:<20} {:<64}\".format(row[0], row[1], row[2], row[3]), end=\" \")\n",
    "        print(row[4] )\n",
    "\n",
    "# Update a password record\n",
    "def update_password(user_id):\n",
    "    view_passwords(user_id)\n",
    "    record_id = int(input(\"Enter the ID of the record you want to update: \"))\n",
    "    new_username = input(\"Enter new username (leave blank to keep unchanged): \")\n",
    "    new_password = getpass(\"Enter new password (leave blank to keep unchanged): \")\n",
    "\n",
    "    conn = sqlite3.connect('password_manager.db')\n",
    "    cursor = conn.cursor()\n",
    "\n",
    "    if new_username:\n",
    "        cursor.execute('UPDATE passwords SET username = ? WHERE id = ? AND user_id = ?', (new_username, record_id, user_id))\n",
    "\n",
    "    if new_password:\n",
    "        # Hash the new password\n",
    "        password_hash = hash_password(new_password)\n",
    "    \n",
    "        # Encrypt the new password\n",
    "        master_password = \"my0;ma5teR_Pa5sW0rd\"\n",
    "        salt = b'secure_salt'\n",
    "        key = generate_key(master_password, salt)\n",
    "        password_encr = encrypt(new_password, key)\n",
    "        cursor.execute('UPDATE passwords SET password_hash = ?, password_encr = ? WHERE id = ? AND user_id = ?',\n",
    "                       (password_hash, password_encr, record_id, user_id))\n",
    "\n",
    "    conn.commit()\n",
    "    conn.close()\n",
    "    print(\"Password record updated successfully!\")\n",
    "\n",
    "# Dictionary and brute-force attacks (basic simulation)\n",
    "def password_attacks():\n",
    "    \n",
    "    print(\"Welcome to Password Attack Simulator\")\n",
    "    hashed_password = input(\"Enter the hashed password: \")\n",
    "\n",
    "    # Detect hash type\n",
    "    hash_type = detect_hash_type(hashed_password)\n",
    "    if hash_type == \"unknown\":\n",
    "        print(\"Error: Unsupported or unrecognized hash type.\")\n",
    "        return\n",
    "\n",
    "    print(f\"Detected hash type: {hash_type}\")\n",
    "\n",
    "    print(\"\\nChoose an attack method:\")\n",
    "    print(\"1. Brute-Force Attack\")\n",
    "    print(\"2. Dictionary Attack\")\n",
    "    choice = input(\"Enter your choice: \")\n",
    "\n",
    "    if choice == \"1\":\n",
    "        max_length = int(input(\"Enter the maximum length for brute-force (e.g., 6): \"))\n",
    "        print(\"Performing brute-force attack...\")\n",
    "        result, time_taken = brute_force_attack(hashed_password, hash_type, max_length)\n",
    "    elif choice == \"2\":\n",
    "        dictionary_file = input(\"Enter the dictionary file path (e.g., passwords.txt): \")\n",
    "        print(\"Performing dictionary attack...\")\n",
    "        result, time_taken = dictionary_attack(hashed_password, hash_type, dictionary_file)\n",
    "    else:\n",
    "        print(\"Invalid choice!\")\n",
    "        return\n",
    "\n",
    "    if result:\n",
    "        print(f\"Password cracked: {result}\")\n",
    "    else:\n",
    "        print(\"Failed to crack the password.\")\n",
    "    print(f\"Time taken: {time_taken:.2f} seconds\")\n",
    "\n",
    "# Generate a strong password\n",
    "def generate_strong_password():\n",
    "    length = int(input(\"Enter the desired length of the password (min 8): \"))\n",
    "    if length < 8:\n",
    "        print(\"Password length must be at least 8 characters.\")\n",
    "        return None\n",
    "    secure_password = generate_secure_password(length)\n",
    "    print(\"Generated password:\", secure_password)\n",
    "    \n",
    "\n",
    "# Test the strength of a password\n",
    "def test_password_strength():\n",
    "    password = input(\"Enter the password to test: \")\n",
    "    \n",
    "    strength = test_password(password)\n",
    "    print(f\"The password strength is: {strength}\")\n",
    "\n",
    "\n",
    "#---------------------- Feature extraction functions -----------------------------------\n",
    "def count_uppercase(password):\n",
    "    return sum(1 for c in password if c.isupper())\n",
    "\n",
    "def count_lowercase(password):\n",
    "    return sum(1 for c in password if c.islower())\n",
    "\n",
    "def count_digits(password):\n",
    "    return sum(1 for c in password if c.isdigit())\n",
    "\n",
    "def count_special_chars(password):\n",
    "    return sum(1 for c in password if not c.isalnum())\n",
    "\n",
    "def has_sequential_chars(password):\n",
    "    # Check for sequences of 3 or more characters\n",
    "    sequential = False\n",
    "    for i in range(len(password) - 2):\n",
    "        substr = password[i:i+3]\n",
    "        if substr.isalpha() or substr.isdigit():\n",
    "            if ord(substr[1]) == ord(substr[0]) + 1 and ord(substr[2]) == ord(substr[1]) + 1:\n",
    "                sequential = True\n",
    "                break\n",
    "    return int(sequential)\n",
    "\n",
    "def calculate_entropy(password):\n",
    "    # Calculate Shannon entropy\n",
    "    entropy = 0\n",
    "    length = len(password)\n",
    "    if length == 0:\n",
    "        return 0\n",
    "    chars = set(password)\n",
    "    for c in chars:\n",
    "        p = password.count(c) / length\n",
    "        entropy -= p * np.log2(p)\n",
    "    return entropy\n",
    "#----------------------------------------------------------------------------\n",
    "# Load the saved model and label encoder\n",
    "loaded_model = joblib.load('random_forest_model.pkl') # random_forest_model.pkl | mlp_model.pkl | knn_model.pkl\n",
    "loaded_label_encoder = joblib.load('label_encoder.pkl')\n",
    "\n",
    "def test_password(password):    \n",
    "    # Extract features\n",
    "    features = {\n",
    "        'length': len(password),\n",
    "        'uppercase': count_uppercase(password),\n",
    "        'lowercase': count_lowercase(password),\n",
    "        'digits': count_digits(password),\n",
    "        'special_chars': count_special_chars(password),\n",
    "        'sequential': has_sequential_chars(password),\n",
    "        'entropy': calculate_entropy(password)\n",
    "    }\n",
    "\n",
    "    # Convert to a DataFrame with proper feature names\n",
    "    input_features = pd.DataFrame([features])\n",
    "\n",
    "    # Predict strength\n",
    "    predicted_strength = loaded_model.predict(input_features)\n",
    "    decoded_strength = loaded_label_encoder.inverse_transform(predicted_strength)\n",
    "\n",
    "    return decoded_strength[0]\n",
    "\n",
    "# Main application logic\n",
    "def main():\n",
    "    initialize_database()\n",
    "    print(\"Welcome to the Password Manager CLI App!\")\n",
    "\n",
    "    while True:\n",
    "        print(\"\\nChoose an option:\")\n",
    "        print(\"1. Login\")\n",
    "        print(\"2. Register\")\n",
    "        print(\"3. Exit\")\n",
    "        choice = input(\"Enter choice: \")\n",
    "\n",
    "        if choice == \"1\":\n",
    "            user_id = authenticate_user()\n",
    "            if user_id:\n",
    "                while True:\n",
    "                    print(\"\\nDashboard\")\n",
    "                    print(\"1. View Passwords\")\n",
    "                    print(\"2. Add Password\")\n",
    "                    print(\"3. Update Password\")\n",
    "                    print(\"4. Generate strong pasword\")\n",
    "                    print(\"5. Password strength\")\n",
    "                    print(\"6. Perform Password Attack\")\n",
    "                    print(\"7. Logout\")\n",
    "                    user_choice = input(\"Enter choice: \")\n",
    "\n",
    "                    if user_choice == \"1\":\n",
    "                        view_passwords(user_id)\n",
    "                    elif user_choice == \"2\":\n",
    "                        add_password(user_id)\n",
    "                    elif user_choice == \"3\":\n",
    "                        update_password(user_id)\n",
    "                    elif user_choice == \"4\":\n",
    "                        generate_strong_password()\n",
    "                    elif user_choice == \"5\":\n",
    "                        test_password_strength()\n",
    "                    elif user_choice == \"6\":\n",
    "                        password_attacks()\n",
    "                    elif user_choice == \"7\":\n",
    "                        break\n",
    "                    else:\n",
    "                        print(\"Invalid choice!\")\n",
    "        elif choice == \"2\":\n",
    "            register_user()\n",
    "        elif choice == \"3\":\n",
    "            print(\"Goodbye!\")\n",
    "            break\n",
    "        else:\n",
    "            print(\"Invalid choice!\")\n",
    "\n",
    "if __name__ == \"__main__\":\n",
    "    main()\n"
   ]
  },
  {
   "cell_type": "code",
   "execution_count": 42,
   "id": "23a48078-7e26-4a0f-ab36-8488f81cf548",
   "metadata": {},
   "outputs": [
    {
     "name": "stdout",
     "output_type": "stream",
     "text": [
      "64\n",
      "60\n",
      "64\n"
     ]
    }
   ],
   "source": [
    "print(len(\"5e884898da28047151d0e56f8dc6292773603d0d6aabbdd62a11ef721d1542d8\"))\n",
    "print(len(\"$2a$10$N9qo8uLOickgx2ZMRZoMyeIjZAgcfl7p92ldGxad68LJZdL17lhWy\"))\n",
    "\n",
    "print(len(\"hN3WDcIUBV8rg+gtqRBZKdtm0a9vlh2tB1o8xHYnCcaLW70/vaTZC9IMdPxHYWhu\"))"
   ]
  },
  {
   "cell_type": "code",
   "execution_count": 41,
   "id": "f681b7c3-ca31-467a-8061-f1f1261f3ed5",
   "metadata": {},
   "outputs": [
    {
     "name": "stdout",
     "output_type": "stream",
     "text": [
      "<<<<<----------  Ok! --------------\n"
     ]
    }
   ],
   "source": [
    "print(\"<<<<<----------  Ok! --------------\")"
   ]
  },
  {
   "cell_type": "code",
   "execution_count": null,
   "id": "42a282f6-838d-419d-972b-78afdb1c19d5",
   "metadata": {},
   "outputs": [],
   "source": []
  }
 ],
 "metadata": {
  "kernelspec": {
   "display_name": "Python (venv)",
   "language": "python",
   "name": "venv"
  },
  "language_info": {
   "codemirror_mode": {
    "name": "ipython",
    "version": 3
   },
   "file_extension": ".py",
   "mimetype": "text/x-python",
   "name": "python",
   "nbconvert_exporter": "python",
   "pygments_lexer": "ipython3",
   "version": "3.11.6"
  }
 },
 "nbformat": 4,
 "nbformat_minor": 5
}
